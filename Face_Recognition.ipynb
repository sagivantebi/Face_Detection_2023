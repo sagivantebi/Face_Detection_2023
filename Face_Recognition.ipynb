{
  "nbformat": 4,
  "nbformat_minor": 0,
  "metadata": {
    "colab": {
      "provenance": [],
      "authorship_tag": "ABX9TyOsoh/XTCwMC5vomeXPG8Rr",
      "include_colab_link": true
    },
    "kernelspec": {
      "name": "python3",
      "display_name": "Python 3"
    },
    "language_info": {
      "name": "python"
    }
  },
  "cells": [
    {
      "cell_type": "markdown",
      "metadata": {
        "id": "view-in-github",
        "colab_type": "text"
      },
      "source": [
        "<a href=\"https://colab.research.google.com/github/sagivantebi/Face_Recognition/blob/main/Face_Recognition.ipynb\" target=\"_parent\"><img src=\"https://colab.research.google.com/assets/colab-badge.svg\" alt=\"Open In Colab\"/></a>"
      ]
    },
    {
      "cell_type": "code",
      "execution_count": null,
      "metadata": {
        "id": "MXxxtbvpc2P1"
      },
      "outputs": [],
      "source": [
        "from google.colab import drive\n",
        "drive.mount('/content/drive')"
      ]
    },
    {
      "cell_type": "markdown",
      "source": [
        "#Create Photos\n"
      ],
      "metadata": {
        "id": "kH4KTte8c6yB"
      }
    },
    {
      "cell_type": "code",
      "source": [
        "import cv2\n",
        "import os\n",
        "from IPython.display import display, Javascript\n",
        "from google.colab.output import eval_js\n",
        "from google.colab.patches import cv2_imshow\n",
        "from base64 import b64decode\n",
        "\n",
        "def capture_image():\n",
        "    js_code = \"\"\"\n",
        "        async function captureImage() {\n",
        "            const div = document.createElement('div');\n",
        "            const video = document.createElement('video');\n",
        "            video.style.display = 'block';\n",
        "            const stream = await navigator.mediaDevices.getUserMedia({video: true});\n",
        "\n",
        "            document.body.appendChild(div);\n",
        "            div.appendChild(video);\n",
        "            video.srcObject = stream;\n",
        "            await video.play();\n",
        "\n",
        "            // Resize the output to fit the video element.\n",
        "            google.colab.output.setIframeHeight(document.documentElement.scrollHeight, true);\n",
        "\n",
        "            const canvas = document.createElement('canvas');\n",
        "            canvas.width = video.videoWidth;\n",
        "            canvas.height = video.videoHeight;\n",
        "            canvas.getContext('2d').drawImage(video, 0, 0);\n",
        "            stream.getVideoTracks()[0].stop();\n",
        "            div.remove();\n",
        "            return canvas.toDataURL('image/jpeg');\n",
        "        }\n",
        "    \"\"\"\n",
        "    display(Javascript(js_code))\n",
        "    data = eval_js('captureImage()')\n",
        "    binary = b64decode(data.split(',')[1])\n",
        "    return cv2.imdecode(np.frombuffer(binary, np.uint8), -1)\n",
        "\n",
        "# Load the Haar cascade for face detection\n",
        "facedetect = cv2.CascadeClassifier('haarcascade_frontalface_default.xml')\n",
        "\n",
        "count = 0\n",
        "nameID = str(input(\"Enter Your Name: \")).lower()\n",
        "path = '/content/drive/My Drive/FaceImages/' + nameID\n",
        "while os.path.exists(path):\n",
        "    print(\"Name Already Taken\")\n",
        "    nameID = str(input(\"Enter Your Name Again: \")).lower()\n",
        "    path = '/content/drive/My Drive/FaceImages/' + nameID  # Keep this path consistent\n",
        "\n",
        "os.makedirs(path)\n",
        "\n",
        "while count < 20:\n",
        "    frame = capture_image()\n",
        "    if frame is None:\n",
        "        print(\"Error: Could not read frame.\")\n",
        "        break\n",
        "\n",
        "    faces = facedetect.detectMultiScale(frame, 1.3, 5)\n",
        "\n",
        "    for x, y, w, h in faces:\n",
        "        count += 1\n",
        "        print(count)\n",
        "        name = path + '/' + str(count) + '.jpg'  # Use the correct path here\n",
        "        print(\"Creating Images.......\" + name)\n",
        "        cv2.imwrite(name, frame[y:y+h, x:x+w])\n",
        "        cv2.rectangle(frame, (x, y), (x+w, y+h), (0, 255, 0), 3)\n",
        "\n",
        "    # cv2_imshow(frame)"
      ],
      "metadata": {
        "id": "emibNOwTc44q"
      },
      "execution_count": null,
      "outputs": []
    },
    {
      "cell_type": "markdown",
      "source": [
        "# Go and train in the website: https://teachablemachine.withgoogle.com/train/\n",
        "After that download all the things and store them in the drive.\n",
        "\n",
        "Then change the pathes accordingly.\n"
      ],
      "metadata": {
        "id": "t326lAlhdAnq"
      }
    },
    {
      "cell_type": "markdown",
      "source": [
        "#Test Model"
      ],
      "metadata": {
        "id": "3VIa_t2wc9fU"
      }
    },
    {
      "cell_type": "code",
      "source": [
        "from keras.models import load_model  # TensorFlow is required for Keras to work\n",
        "from PIL import Image, ImageOps  # Install pillow instead of PIL\n",
        "import numpy as np\n",
        "\n",
        "# Disable scientific notation for clarity\n",
        "np.set_printoptions(suppress=True)\n",
        "\n",
        "# Load the model\n",
        "model = load_model(\"/content/drive/My Drive/Colab Notebooks/keras_model.h5\", compile=False)\n",
        "\n",
        "# Load the labels\n",
        "class_names = open(\"labels.txt\", \"r\").readlines()\n",
        "\n",
        "# Create the array of the right shape to feed into the keras model\n",
        "# The 'length' or number of images you can put into the array is\n",
        "# determined by the first position in the shape tuple, in this case 1\n",
        "data = np.ndarray(shape=(1, 224, 224, 3), dtype=np.float32)\n",
        "\n",
        "# Replace this with the path to your image\n",
        "image = Image.open(\"images/saggg/1.jpg\").convert(\"RGB\")\n",
        "\n",
        "# resizing the image to be at least 224x224 and then cropping from the center\n",
        "size = (224, 224)\n",
        "image = ImageOps.fit(image, size, Image.Resampling.LANCZOS)\n",
        "\n",
        "# turn the image into a numpy array\n",
        "image_array = np.asarray(image)\n",
        "\n",
        "# Normalize the image\n",
        "normalized_image_array = (image_array.astype(np.float32) / 127.5) - 1\n",
        "\n",
        "# Load the image into the array\n",
        "data[0] = normalized_image_array\n",
        "\n",
        "# Predicts the model\n",
        "prediction = model.predict(data)\n",
        "index = np.argmax(prediction)\n",
        "class_name = class_names[index]\n",
        "confidence_score = prediction[0][index]\n",
        "\n",
        "# Print prediction and confidence score\n",
        "print(\"Class:\", class_name[2:], end=\"\")\n",
        "print(\"Confidence Score:\", confidence_score)\n"
      ],
      "metadata": {
        "id": "dlSLQe4Tc_9V"
      },
      "execution_count": null,
      "outputs": []
    }
  ]
}